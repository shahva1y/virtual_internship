{
 "cells": [
  {
   "cell_type": "markdown",
   "id": "7214553f-e444-4277-9dce-9cc67b59e87f",
   "metadata": {
    "tags": []
   },
   "source": [
    "# Онлайн-стажировка СБЕР\n",
    "\n",
    "Практикант: Шагвлаеев Рамиль Рафисович\n",
    "\n",
    "Почта: shagvaly@yandex.ru\n",
    "\n",
    "Telegram/GitHub: @shahva1y"
   ]
  },
  {
   "cell_type": "markdown",
   "id": "5f57bab5-6297-4e34-8340-b59369fe998a",
   "metadata": {},
   "source": [
    "### Описание задачи\n",
    "\n",
    "В файле data.csv (находится в архиве \"Вспомогательный данные\") представлены подневные данные объема расчетных счетов физических лиц. В отличие от депозита, клиент может снять всю сумму с расчетного счета в любой момент времени без каких-либо «штрафов». Такой продукт называют Undefined Maturity Product – UMP). Однако маловероятно, что все клиенты разом закроют свои счета в Банке. Всегда кто-то снимает деньги, а кто-то пополняет счет – есть некоторый стабильный уровень, ниже которого не опустится суммарный обьем расчетных счетов.\n",
    "\n",
    "Например, если бы мы знали будущее объема расчетных счетов, как на рисунке ниже, то стабильная часть на 1 месяц (1м) была бы на уровне, обозначенным красным цветом. Это тот уровень, который не пробивается на протяжении 1 месяца. Аналогично 2м – зеленый, 3м – синий, 4м – розовый."
   ]
  },
  {
   "cell_type": "markdown",
   "id": "a1afdece-b8b4-4e0e-b0ba-069cb7ba3321",
   "metadata": {},
   "source": [
    "<center><img src=\"./image.png\" width=\"70%\"></center>"
   ]
  },
  {
   "cell_type": "markdown",
   "id": "78c1d515-a671-41a0-bfc9-b87b3180f94f",
   "metadata": {},
   "source": [
    "Для временного ряда в файле data.csv необходимо построить модель, которая оценивает обьем стабильной части средств на дату.\n",
    "\n",
    "Нужно одновременно минимизировать величины:\n",
    "\n",
    "* максимальный объем пробития стабильный части на валидационной выборке \n",
    "* фактическая стабильная часть – модельная стабильная часть "
   ]
  },
  {
   "cell_type": "markdown",
   "id": "178270f2-cd11-4a8c-9c16-7dc1e97c58a5",
   "metadata": {
    "tags": []
   },
   "source": [
    "### Предварительная обработка данных"
   ]
  },
  {
   "cell_type": "markdown",
   "id": "2c3805e2-ee9a-445b-b330-fc83e7d9516e",
   "metadata": {},
   "source": [
    "Импортируем библеотеки."
   ]
  },
  {
   "cell_type": "code",
   "execution_count": 1,
   "id": "66b04c99-2cc3-4ae6-9820-9797ff114add",
   "metadata": {},
   "outputs": [],
   "source": [
    "import pandas as pd\n",
    "import numpy as np\n",
    "import math\n",
    "import matplotlib.pyplot as plt\n",
    "%matplotlib inline\n",
    "import seaborn as sns\n",
    "import warnings\n",
    "\n",
    "import datetime"
   ]
  },
  {
   "cell_type": "code",
   "execution_count": 2,
   "id": "b2aeb4b5-9cea-4406-8cc6-fe2c7e558b6e",
   "metadata": {},
   "outputs": [],
   "source": [
    "warnings.filterwarnings('ignore')"
   ]
  },
  {
   "cell_type": "markdown",
   "id": "7ddb3716-d495-4deb-bd12-bfec2a39e7fe",
   "metadata": {},
   "source": [
    "Импортируем данные из csv-файла."
   ]
  },
  {
   "cell_type": "code",
   "execution_count": 3,
   "id": "c4bccf81-85a2-480c-ba81-fc333232eac0",
   "metadata": {},
   "outputs": [],
   "source": [
    "data = pd.read_csv('./data.csv', delimiter=';')"
   ]
  },
  {
   "cell_type": "code",
   "execution_count": 4,
   "id": "0a296edd-bedc-41df-a2b5-80fcb0f50ea1",
   "metadata": {},
   "outputs": [
    {
     "data": {
      "text/html": [
       "<div>\n",
       "<style scoped>\n",
       "    .dataframe tbody tr th:only-of-type {\n",
       "        vertical-align: middle;\n",
       "    }\n",
       "\n",
       "    .dataframe tbody tr th {\n",
       "        vertical-align: top;\n",
       "    }\n",
       "\n",
       "    .dataframe thead th {\n",
       "        text-align: right;\n",
       "    }\n",
       "</style>\n",
       "<table border=\"1\" class=\"dataframe\">\n",
       "  <thead>\n",
       "    <tr style=\"text-align: right;\">\n",
       "      <th></th>\n",
       "      <th>REPORTDATE</th>\n",
       "      <th>VALUE</th>\n",
       "    </tr>\n",
       "  </thead>\n",
       "  <tbody>\n",
       "    <tr>\n",
       "      <th>0</th>\n",
       "      <td>30.12.2013</td>\n",
       "      <td>3457625638</td>\n",
       "    </tr>\n",
       "    <tr>\n",
       "      <th>1</th>\n",
       "      <td>31.12.2013</td>\n",
       "      <td>3417092149</td>\n",
       "    </tr>\n",
       "    <tr>\n",
       "      <th>2</th>\n",
       "      <td>01.01.2014</td>\n",
       "      <td>3417092149</td>\n",
       "    </tr>\n",
       "    <tr>\n",
       "      <th>3</th>\n",
       "      <td>02.01.2014</td>\n",
       "      <td>3417092149</td>\n",
       "    </tr>\n",
       "    <tr>\n",
       "      <th>4</th>\n",
       "      <td>03.01.2014</td>\n",
       "      <td>3417092149</td>\n",
       "    </tr>\n",
       "  </tbody>\n",
       "</table>\n",
       "</div>"
      ],
      "text/plain": [
       "   REPORTDATE       VALUE\n",
       "0  30.12.2013  3457625638\n",
       "1  31.12.2013  3417092149\n",
       "2  01.01.2014  3417092149\n",
       "3  02.01.2014  3417092149\n",
       "4  03.01.2014  3417092149"
      ]
     },
     "execution_count": 4,
     "metadata": {},
     "output_type": "execute_result"
    }
   ],
   "source": [
    "data.head()"
   ]
  },
  {
   "cell_type": "code",
   "execution_count": 5,
   "id": "2a73e086-89a6-4a92-91ce-f456e9bc91fe",
   "metadata": {},
   "outputs": [
    {
     "data": {
      "text/plain": [
       "(2111, 2)"
      ]
     },
     "execution_count": 5,
     "metadata": {},
     "output_type": "execute_result"
    }
   ],
   "source": [
    "data.shape"
   ]
  },
  {
   "cell_type": "markdown",
   "id": "b3bfd367-f97e-4799-ab22-75797765c27a",
   "metadata": {
    "tags": []
   },
   "source": [
    "Проверим данные на наличие пропущенных значений."
   ]
  },
  {
   "cell_type": "code",
   "execution_count": 6,
   "id": "bc820b71-deac-42d6-a3d4-7055dd0254b2",
   "metadata": {},
   "outputs": [
    {
     "data": {
      "text/plain": [
       "REPORTDATE    0\n",
       "VALUE         0\n",
       "dtype: int64"
      ]
     },
     "execution_count": 6,
     "metadata": {},
     "output_type": "execute_result"
    }
   ],
   "source": [
    "data.isna().sum()"
   ]
  },
  {
   "cell_type": "markdown",
   "id": "8593e5b5-2f78-4072-a969-2b69047c4316",
   "metadata": {},
   "source": [
    "Пропущенных значений нет."
   ]
  },
  {
   "cell_type": "markdown",
   "id": "8d3877fa-9866-4b64-892f-bde99c44844b",
   "metadata": {},
   "source": [
    "Для удобства обработки приведем колонку данных \"REPORTDATE\" к формату datetime. "
   ]
  },
  {
   "cell_type": "code",
   "execution_count": 7,
   "id": "bad536b3-8358-43c2-bcce-3a94c8cc4363",
   "metadata": {},
   "outputs": [],
   "source": [
    "df = pd.DataFrame(data)\n",
    "df['datetime'] = pd.to_datetime(df['REPORTDATE'], infer_datetime_format=True)"
   ]
  },
  {
   "cell_type": "markdown",
   "id": "7552d698-e7ee-4272-bd45-3d3ba6f8b341",
   "metadata": {},
   "source": [
    "Визуализируем полученные данные."
   ]
  },
  {
   "cell_type": "code",
   "execution_count": 8,
   "id": "cef4127a-94be-4128-9698-9177e1873773",
   "metadata": {
    "tags": []
   },
   "outputs": [
    {
     "data": {
      "image/png": "[encoded data removed]",
      "text/plain": [
       "<Figure size 432x288 with 1 Axes>"
      ]
     },
     "metadata": {
      "needs_background": "light"
     },
     "output_type": "display_data"
    }
   ],
   "source": [
    "sns.lineplot(data=df, x='datetime', y='VALUE')\n",
    "plt.show()"
   ]
  },
  {
   "cell_type": "markdown",
   "id": "83942ea4-8e0a-44fb-a8d9-50386000b20f",
   "metadata": {},
   "source": [
    "График имеет ряд особенностей. \n",
    "\n",
    "1. Представленная зависимость выражена положительным трендом.\n",
    "\n",
    "2. Можно заменить, что на промежутке с 2014 г. по 2015 г. временной ряд изменяет свой характер поведения. Причинами этого могут быть различные факторы, можно лишь выделить один из них - [валютный кризис](https://ru.wikipedia.org/wiki/Валютный_кризис_в_России_(2014—2015)). Таким образом, мы будем рассматривать данные только от начала 2015 года.\n",
    "\n",
    "3. Временной ряд с 2015 года имеет выраженный гетероскедастичный характер. С увеличением времени наблюдения увеличивается и разбос значений, что говорит о мультипликативности сезонных поправок."
   ]
  },
  {
   "cell_type": "markdown",
   "id": "64fb22ee-a30d-4c0e-b477-c8ff1da15e62",
   "metadata": {},
   "source": [
    "Пролагарифмируем наши значения."
   ]
  },
  {
   "cell_type": "code",
   "execution_count": 9,
   "id": "acc7ba62-b0f3-4648-960a-bfee1b0c4b42",
   "metadata": {},
   "outputs": [],
   "source": [
    "df['ln'] = np.log(df['VALUE'])"
   ]
  },
  {
   "cell_type": "code",
   "execution_count": 10,
   "id": "62f2d5cc-f56c-421f-8734-a2f6bf59eafb",
   "metadata": {},
   "outputs": [
    {
     "data": {
      "image/png": "[encoded data removed]",
      "text/plain": [
       "<Figure size 432x288 with 1 Axes>"
      ]
     },
     "metadata": {
      "needs_background": "light"
     },
     "output_type": "display_data"
    }
   ],
   "source": [
    "sns.lineplot(data=df, x='datetime', y='ln')\n",
    "plt.show()"
   ]
  },
  {
   "cell_type": "code",
   "execution_count": 11,
   "id": "104f936a-5d28-4d0a-80b2-dcf7d3dc83cb",
   "metadata": {},
   "outputs": [],
   "source": [
    "df = df[df['datetime'] >= '2015-01-01']"
   ]
  },
  {
   "cell_type": "code",
   "execution_count": 12,
   "id": "3e8e1a6f-07fd-4cc0-a375-0377694e11d3",
   "metadata": {},
   "outputs": [
    {
     "data": {
      "image/png": "[encoded data removed]",
      "text/plain": [
       "<Figure size 432x288 with 1 Axes>"
      ]
     },
     "metadata": {
      "needs_background": "light"
     },
     "output_type": "display_data"
    }
   ],
   "source": [
    "sns.lineplot(data=df, x='datetime', y='ln')\n",
    "plt.show()"
   ]
  },
  {
   "cell_type": "markdown",
   "id": "ca62d29f-d320-4f00-8f0a-96a6a4c8ba27",
   "metadata": {
    "tags": []
   },
   "source": [
    "### Модель "
   ]
  },
  {
   "cell_type": "markdown",
   "id": "00229d0a-74d0-40db-9e37-b6c33915eb4c",
   "metadata": {},
   "source": [
    "Для предсказания наших данных будем использовать модель квантильной регрессии. \n",
    "\n",
    "Следуя статье [[1]](https://peerj.com/preprints/3190/) мы будет предполагать, что модель нашего временного ряда состоит из следующих составляющих:\n",
    "\n",
    "* $T(t)$ - трендовая, моделирует непериодические изменения значения временного ряда. Определяет тенденция изменения уровня значений.\n",
    "\n",
    "* $S(t)$ - сезонная, представляет периодические изменения (например, еженедельную и годовую сезонность)\n",
    "\n",
    "* $\\epsilon_{t}$ - ошибка, случайная непрогнозируемая компонента временного ряда. Представялет собой изменения, которые не учитываются моделью.\n",
    "\n",
    "Такием образом, логарифмированные наши данные, выражаются уравнием ниже. \n",
    "\n",
    "$y_{t} = T(t)*S(t)*\\epsilon_{t}$\n",
    "\n",
    "$ln(y_{t}) = ln(T(t)*S(t)*\\epsilon_{t})$\n",
    "\n",
    "$ln(y_{t}) = lnT(t) + lnS(t) + ln\\epsilon_{t}$"
   ]
  },
  {
   "cell_type": "markdown",
   "id": "9c0fc0b2-6448-4971-876b-37fc3121f6cf",
   "metadata": {},
   "source": [
    "#### Трендовая составляющая\n",
    "\n"
   ]
  },
  {
   "cell_type": "markdown",
   "id": "fab24199-20ad-4f60-809e-e67e973a6fdb",
   "metadata": {},
   "source": [
    "Будем аппроксимировать нашу трендовую составляющую квадратичной по времени зависимостью. Поскольку текущие представления времени 'datetime' и 'REPORTDATE' не подходят для данной задачи, переведем их в относительные единицы времени, измеряя количество дней прошедших с начала измерений (1 января 2015 года). "
   ]
  },
  {
   "cell_type": "code",
   "execution_count": 13,
   "id": "73799c0c-6cea-4caf-a112-b9b6adc34b0c",
   "metadata": {},
   "outputs": [],
   "source": [
    "import datetime\n",
    "\n",
    "df['time'] = df['datetime'].apply(lambda time: (time - df['datetime'].iloc[0]).days)"
   ]
  },
  {
   "cell_type": "code",
   "execution_count": 14,
   "id": "cd34cc6b-c90f-4a09-8cf2-a3571461299b",
   "metadata": {},
   "outputs": [
    {
     "data": {
      "text/html": [
       "<div>\n",
       "<style scoped>\n",
       "    .dataframe tbody tr th:only-of-type {\n",
       "        vertical-align: middle;\n",
       "    }\n",
       "\n",
       "    .dataframe tbody tr th {\n",
       "        vertical-align: top;\n",
       "    }\n",
       "\n",
       "    .dataframe thead th {\n",
       "        text-align: right;\n",
       "    }\n",
       "</style>\n",
       "<table border=\"1\" class=\"dataframe\">\n",
       "  <thead>\n",
       "    <tr style=\"text-align: right;\">\n",
       "      <th></th>\n",
       "      <th>REPORTDATE</th>\n",
       "      <th>VALUE</th>\n",
       "      <th>datetime</th>\n",
       "      <th>ln</th>\n",
       "      <th>time</th>\n",
       "    </tr>\n",
       "  </thead>\n",
       "  <tbody>\n",
       "    <tr>\n",
       "      <th>367</th>\n",
       "      <td>01.01.2015</td>\n",
       "      <td>17452425921</td>\n",
       "      <td>2015-01-01</td>\n",
       "      <td>23.582744</td>\n",
       "      <td>0</td>\n",
       "    </tr>\n",
       "    <tr>\n",
       "      <th>368</th>\n",
       "      <td>02.01.2015</td>\n",
       "      <td>17452425921</td>\n",
       "      <td>2015-01-02</td>\n",
       "      <td>23.582744</td>\n",
       "      <td>1</td>\n",
       "    </tr>\n",
       "    <tr>\n",
       "      <th>369</th>\n",
       "      <td>03.01.2015</td>\n",
       "      <td>17452425921</td>\n",
       "      <td>2015-01-03</td>\n",
       "      <td>23.582744</td>\n",
       "      <td>2</td>\n",
       "    </tr>\n",
       "    <tr>\n",
       "      <th>370</th>\n",
       "      <td>04.01.2015</td>\n",
       "      <td>17452425921</td>\n",
       "      <td>2015-01-04</td>\n",
       "      <td>23.582744</td>\n",
       "      <td>3</td>\n",
       "    </tr>\n",
       "    <tr>\n",
       "      <th>371</th>\n",
       "      <td>05.01.2015</td>\n",
       "      <td>16162817600</td>\n",
       "      <td>2015-01-05</td>\n",
       "      <td>23.505979</td>\n",
       "      <td>4</td>\n",
       "    </tr>\n",
       "  </tbody>\n",
       "</table>\n",
       "</div>"
      ],
      "text/plain": [
       "     REPORTDATE        VALUE   datetime         ln  time\n",
       "367  01.01.2015  17452425921 2015-01-01  23.582744     0\n",
       "368  02.01.2015  17452425921 2015-01-02  23.582744     1\n",
       "369  03.01.2015  17452425921 2015-01-03  23.582744     2\n",
       "370  04.01.2015  17452425921 2015-01-04  23.582744     3\n",
       "371  05.01.2015  16162817600 2015-01-05  23.505979     4"
      ]
     },
     "execution_count": 14,
     "metadata": {},
     "output_type": "execute_result"
    }
   ],
   "source": [
    "df.head()"
   ]
  },
  {
   "cell_type": "markdown",
   "id": "fa1f2dbd-86dc-49bd-8423-294a8d698707",
   "metadata": {},
   "source": [
    "# Сезонная составляющая\n",
    "Сезонные колебания определяются характерным временем колебаний - периодом. Интуитивно можно выделить следующие временные отрезки: неделя, месяц, квартал, ..., год, ...\n",
    "\n",
    "Посмотрим на наши данные в разрезе одного года. Для этого выразим наш временной ряд через 'годовые дни'. 1 янвяря - первый день в году соответсвует 1 день. Последний день - 365."
   ]
  },
  {
   "cell_type": "code",
   "execution_count": 15,
   "id": "6ccd9372-0f5d-4e39-93ae-e7aadb88682d",
   "metadata": {},
   "outputs": [],
   "source": [
    "df['day_of_year'] = df['datetime'].dt.dayofyear\n",
    "df['year'] = df['datetime'].dt.year"
   ]
  },
  {
   "cell_type": "code",
   "execution_count": 16,
   "id": "4d4c57c8-2c87-40cc-bd02-b74fef4bf273",
   "metadata": {},
   "outputs": [
    {
     "data": {
      "text/html": [
       "<div>\n",
       "<style scoped>\n",
       "    .dataframe tbody tr th:only-of-type {\n",
       "        vertical-align: middle;\n",
       "    }\n",
       "\n",
       "    .dataframe tbody tr th {\n",
       "        vertical-align: top;\n",
       "    }\n",
       "\n",
       "    .dataframe thead th {\n",
       "        text-align: right;\n",
       "    }\n",
       "</style>\n",
       "<table border=\"1\" class=\"dataframe\">\n",
       "  <thead>\n",
       "    <tr style=\"text-align: right;\">\n",
       "      <th></th>\n",
       "      <th>REPORTDATE</th>\n",
       "      <th>VALUE</th>\n",
       "      <th>datetime</th>\n",
       "      <th>ln</th>\n",
       "      <th>time</th>\n",
       "      <th>day_of_year</th>\n",
       "      <th>year</th>\n",
       "    </tr>\n",
       "  </thead>\n",
       "  <tbody>\n",
       "    <tr>\n",
       "      <th>367</th>\n",
       "      <td>01.01.2015</td>\n",
       "      <td>17452425921</td>\n",
       "      <td>2015-01-01</td>\n",
       "      <td>23.582744</td>\n",
       "      <td>0</td>\n",
       "      <td>1</td>\n",
       "      <td>2015</td>\n",
       "    </tr>\n",
       "    <tr>\n",
       "      <th>368</th>\n",
       "      <td>02.01.2015</td>\n",
       "      <td>17452425921</td>\n",
       "      <td>2015-01-02</td>\n",
       "      <td>23.582744</td>\n",
       "      <td>1</td>\n",
       "      <td>2</td>\n",
       "      <td>2015</td>\n",
       "    </tr>\n",
       "    <tr>\n",
       "      <th>369</th>\n",
       "      <td>03.01.2015</td>\n",
       "      <td>17452425921</td>\n",
       "      <td>2015-01-03</td>\n",
       "      <td>23.582744</td>\n",
       "      <td>2</td>\n",
       "      <td>3</td>\n",
       "      <td>2015</td>\n",
       "    </tr>\n",
       "    <tr>\n",
       "      <th>370</th>\n",
       "      <td>04.01.2015</td>\n",
       "      <td>17452425921</td>\n",
       "      <td>2015-01-04</td>\n",
       "      <td>23.582744</td>\n",
       "      <td>3</td>\n",
       "      <td>4</td>\n",
       "      <td>2015</td>\n",
       "    </tr>\n",
       "    <tr>\n",
       "      <th>371</th>\n",
       "      <td>05.01.2015</td>\n",
       "      <td>16162817600</td>\n",
       "      <td>2015-01-05</td>\n",
       "      <td>23.505979</td>\n",
       "      <td>4</td>\n",
       "      <td>5</td>\n",
       "      <td>2015</td>\n",
       "    </tr>\n",
       "  </tbody>\n",
       "</table>\n",
       "</div>"
      ],
      "text/plain": [
       "     REPORTDATE        VALUE   datetime         ln  time  day_of_year  year\n",
       "367  01.01.2015  17452425921 2015-01-01  23.582744     0            1  2015\n",
       "368  02.01.2015  17452425921 2015-01-02  23.582744     1            2  2015\n",
       "369  03.01.2015  17452425921 2015-01-03  23.582744     2            3  2015\n",
       "370  04.01.2015  17452425921 2015-01-04  23.582744     3            4  2015\n",
       "371  05.01.2015  16162817600 2015-01-05  23.505979     4            5  2015"
      ]
     },
     "execution_count": 16,
     "metadata": {},
     "output_type": "execute_result"
    }
   ],
   "source": [
    "df.head()"
   ]
  },
  {
   "cell_type": "markdown",
   "id": "2a3241e3-a74a-4d2d-b3a2-7362088bb4a7",
   "metadata": {},
   "source": [
    "Ниже представлен график зависимостей логарифмированной целевой переменной от времени, выраженной в днях. Каждый цвет соответсвует определенному году. \n",
    "\n",
    "Можно заметить периодические колебания. Количество пиков внутри одного года равно 12, что может свидетельствать о месячной периодичности временного ряда."
   ]
  },
  {
   "cell_type": "code",
   "execution_count": 17,
   "id": "7fc306f9-3f2f-497e-8921-91d88310f7b0",
   "metadata": {},
   "outputs": [
    {
     "data": {
      "image/png": "[encoded data removed]",
      "text/plain": [
       "<Figure size 432x288 with 1 Axes>"
      ]
     },
     "metadata": {
      "needs_background": "light"
     },
     "output_type": "display_data"
    }
   ],
   "source": [
    "p = sns.lineplot(x=\"day_of_year\", y=\"ln\", hue=\"year\", data=df)\n",
    "p.legend(loc='upper right')\n",
    "p.set_ylabel(\"VALUE, логариф. шкала\")\n",
    "p.set_xlabel(\"День в году\")\n",
    "plt.show()"
   ]
  },
  {
   "cell_type": "markdown",
   "id": "832835a8-9d06-4b06-b891-7705320c64e8",
   "metadata": {},
   "source": [
    "Подобные периодические колебания хорошо описываются функциями времени синуса и косинуса.\n",
    "\n",
    "Однако искать периоды сезонных поправок визуально весьма сложная задача. Поэтому для определения всех возможных (видимых и невидимых глазом) сезонных компонент, будем предполагать их наличие с периодами 365.25/12, 365.25/4, 365.25/2, 365.25/1. Данные периоды соответсвуют месячной, квартальной, полугодовой, годовой сезонностям.\n",
    "\n",
    "Для этого мы сгенерируем дополнительные признаки, соответсвующие разным периодам колебаний (частотам). Это будет соответствовать прибжиженному разложению в ряд Фурье.\n",
    "\n",
    "Преобразования производятся по следующим формулам:\n",
    "$$x_{sin} = sin\\left(\\frac{2\\cdot\\mathrm{\\pi} \\cdot \\mathrm{t}}{ \\mathrm{T} }\\right)$$ \n",
    "$$x_{cos} = cos\\left(\\frac{2\\cdot\\mathrm{\\pi} \\cdot \\mathrm{t}}{ \\mathrm{T} }\\right)$$ \n",
    "\n",
    "Здесь t - это значение момента времени, а T - значение временного периода в единицах измерения времени."
   ]
  },
  {
   "cell_type": "markdown",
   "id": "63cca61c-9825-483b-b68f-abff0df55011",
   "metadata": {},
   "source": [
    "Нужно отметить, что сезонными изменениями с периодами больше года мы пренебрегаем. Преполагая, что их вклады на отрезках времени менеше года - постоянны, а на отрезках больше года зависимость определяются трендовой составляющей.\n",
    "\n",
    "Перейдем к обучению модели."
   ]
  },
  {
   "cell_type": "markdown",
   "id": "e150dfa1-3c1a-41b3-a55b-e44ea2903657",
   "metadata": {
    "tags": []
   },
   "source": [
    "### Обучение"
   ]
  },
  {
   "cell_type": "markdown",
   "id": "397569a6-1846-4240-9121-e8fef3b524fa",
   "metadata": {
    "tags": []
   },
   "source": [
    "Для разработки регрессора воспользуемся библеотекой с иструментами машинного обучения [statmodels](https://www.statsmodels.org/stable/index.html)."
   ]
  },
  {
   "cell_type": "code",
   "execution_count": 18,
   "id": "d5f94198-8105-4a4c-ac39-2283cfe1e12f",
   "metadata": {},
   "outputs": [],
   "source": [
    "import statsmodels.api as sm\n",
    "import statsmodels.formula.api as fsm"
   ]
  },
  {
   "cell_type": "markdown",
   "id": "8cc16ba3-aa47-4c47-8616-a915db1e11e9",
   "metadata": {},
   "source": [
    "fsm.quantreg поможет подобрать коэффициенты для квантильной регрессии. Но перед ее использованием нужно записать выражение, определяющее целевую переменную и признаки по которым мы будем эту переменную предсказывать."
   ]
  },
  {
   "cell_type": "code",
   "execution_count": 19,
   "id": "06c7b295-3d8c-42bb-857a-6536fa6faabb",
   "metadata": {},
   "outputs": [],
   "source": [
    "relation = 'ln ~ '\n",
    "\n",
    "#трендовые поправки\n",
    "relation += 'time + I(time ** 2)'\n",
    "\n",
    "#сезонные поправки\n",
    "for x in [1, 2, 4, 12]:\n",
    "    relation += (' + I(np.sin(2*math.pi*time*'+ str(x) +'/365.25))' + \n",
    "                 ' + I(np.cos(2*math.pi*time*'+ str(x) +'/365.25))')"
   ]
  },
  {
   "cell_type": "markdown",
   "id": "f5d7078c-8159-448e-9056-c7abaf0aac3b",
   "metadata": {},
   "source": [
    "В качестве обучающей выборки возьмем все доступные данные, кроме последнего года."
   ]
  },
  {
   "cell_type": "code",
   "execution_count": 20,
   "id": "f4f944f5-7485-436f-a24f-91c6909a7033",
   "metadata": {},
   "outputs": [],
   "source": [
    "model = fsm.quantreg(relation, data=df.drop(['REPORTDATE', 'VALUE', 'datetime', 'day_of_year', 'year'], axis=1)[:-365])"
   ]
  },
  {
   "cell_type": "markdown",
   "id": "d888c6cb-b999-4c21-928d-1ef58587443b",
   "metadata": {},
   "source": [
    "Поскольку нашей задачей является определения нижнего порога, в качетсве квантиля возьмем значение равное 0.1. Тем самым минимизируется максимальный объем пробития стабильный части на выборке."
   ]
  },
  {
   "cell_type": "code",
   "execution_count": 21,
   "id": "36d22252-bf2d-4a8b-a888-c56fd61f710a",
   "metadata": {},
   "outputs": [],
   "source": [
    "res = model.fit(q=0.1)"
   ]
  },
  {
   "cell_type": "markdown",
   "id": "3a3b0a06-f1dc-4884-89a7-99e37ae37830",
   "metadata": {},
   "source": [
    "### Предсказание"
   ]
  },
  {
   "cell_type": "markdown",
   "id": "f9860eb4-ca90-40fc-9a22-9bf67e704cb4",
   "metadata": {},
   "source": [
    "Модель обучена. Предскажем значения для оставшихся 365 дней. Необходимые значения коэффициентов можно найти в атрибуте res.params. Расчитаем какие значения предсказывает наша модель для тестовой выборки."
   ]
  },
  {
   "cell_type": "code",
   "execution_count": 22,
   "id": "360b9e65-93be-48a7-845d-703fd2f55bb5",
   "metadata": {},
   "outputs": [
    {
     "data": {
      "text/plain": [
       "Intercept                                      2.326943e+01\n",
       "time                                           1.217714e-03\n",
       "I(time ** 2)                                  -1.714999e-07\n",
       "I(np.sin(2 * math.pi * time * 1 / 365.25))    -5.123174e-02\n",
       "I(np.cos(2 * math.pi * time * 1 / 365.25))    -4.629157e-02\n",
       "I(np.sin(2 * math.pi * time * 2 / 365.25))     1.834823e-03\n",
       "I(np.cos(2 * math.pi * time * 2 / 365.25))     5.291056e-02\n",
       "I(np.sin(2 * math.pi * time * 4 / 365.25))    -2.581497e-03\n",
       "I(np.cos(2 * math.pi * time * 4 / 365.25))     1.561394e-02\n",
       "I(np.sin(2 * math.pi * time * 12 / 365.25))    6.313617e-02\n",
       "I(np.cos(2 * math.pi * time * 12 / 365.25))   -3.430482e-02\n",
       "dtype: float64"
      ]
     },
     "execution_count": 22,
     "metadata": {},
     "output_type": "execute_result"
    }
   ],
   "source": [
    "res.params"
   ]
  },
  {
   "cell_type": "code",
   "execution_count": 23,
   "id": "b0d608de-8887-4f7a-abe2-e1b4ad158cc8",
   "metadata": {},
   "outputs": [],
   "source": [
    "y_pred = res.params['Intercept'] + res.params['time'] * df['time'] + res.params['I(time ** 2)'] * (df['time'] ** 2)\n",
    "for x in [1, 2, 4, 12]:\n",
    "    y_pred += (res.params['I(np.sin(2 * math.pi * time * '+ str(x) +' / 365.25))'] * np.sin(2*math.pi*df['time']*x/365.25) +\n",
    "               res.params['I(np.cos(2 * math.pi * time * '+ str(x) +' / 365.25))'] * np.cos(2*math.pi*df['time']*x/365.25))"
   ]
  },
  {
   "cell_type": "markdown",
   "id": "6a9badb3-60ab-460f-be97-eba97a1aefb9",
   "metadata": {},
   "source": [
    "Визуализируем полученные данные вместе с реальными данными."
   ]
  },
  {
   "cell_type": "code",
   "execution_count": 24,
   "id": "2a131fdd-ba9b-4e16-b6be-321b6a51fc22",
   "metadata": {},
   "outputs": [
    {
     "data": {
      "image/png": "[encoded data removed]",
      "text/plain": [
       "<Figure size 432x288 with 1 Axes>"
      ]
     },
     "metadata": {
      "needs_background": "light"
     },
     "output_type": "display_data"
    }
   ],
   "source": [
    "sns.lineplot(x=df['datetime'], y=df['ln'])\n",
    "sns.lineplot(x=df['datetime'], y=y_pred)\n",
    "plt.show()"
   ]
  },
  {
   "cell_type": "code",
   "execution_count": 25,
   "id": "4920e204-bbe6-45ea-9d3f-06bf593443c6",
   "metadata": {},
   "outputs": [
    {
     "name": "stdout",
     "output_type": "stream",
     "text": [
      "MSE: 0.029114081697457137\n",
      "RMSE: 0.17062849028652025\n"
     ]
    }
   ],
   "source": [
    "from statsmodels.tools.eval_measures import mse, rmse\n",
    "\n",
    "print('MSE:', mse(df['ln'][-365:], y_pred[-365:]))\n",
    "print('RMSE:', rmse(df['ln'][-365:], y_pred[-365:]))"
   ]
  },
  {
   "cell_type": "markdown",
   "id": "63050771-0c3e-412a-9c81-9c75e77e499c",
   "metadata": {},
   "source": [
    "Тем не менее, указанная выше модель может иметь ряд недостатков.\n",
    "\n",
    "Во-первых, квадратичная по времени трендовая составляющая может изменяться с течением времени. Это может быть вызвано общими экономическими факторами, так и ограниченностью объемов средств. Денег не бесконечно много, и в перспективе, должен наблюдаться эффект насыщения.\n",
    "\n",
    "Во-вторых, ипользовать весь объем исторических данных не выгодно с точки зрения потребления ресурсов памяти.\n",
    "\n",
    "Связи с этим предлагается упрощение в испорльзовании модели. Модель будет обновлять коэффициенты сгенерированных признаках используя данные за прошедшие 4 года."
   ]
  },
  {
   "cell_type": "markdown",
   "id": "97ff9ba9-289f-4676-b76c-43562db4a53b",
   "metadata": {},
   "source": [
    "### Функция model_forecast()"
   ]
  },
  {
   "cell_type": "markdown",
   "id": "b14aa022-58c8-4be2-a5de-964e96493612",
   "metadata": {},
   "source": [
    "Прототип функции выгядит следующим образом: \n",
    "\n",
    "***model_forecast(2019-02-01, ‘1М’, История_до_2019-02-01) = стабильная часть на 1М***\n",
    "\n",
    "Ниже представлена одна из реализаций этой функции."
   ]
  },
  {
   "cell_type": "code",
   "execution_count": 26,
   "id": "9c1780c4-87fc-4e6c-a562-3aebbe64be4f",
   "metadata": {},
   "outputs": [],
   "source": [
    "from dateutil.relativedelta import relativedelta\n",
    "\n",
    "def data_preprocessing(data):\n",
    "    data['datetime'] = pd.to_datetime(data['REPORTDATE'], format=\"%d.%m.%Y\")\n",
    "    data['ln'] = np.log(df['VALUE'])\n",
    "    \n",
    "    return data\n",
    "\n",
    "def model_train(data):\n",
    "    relation = 'ln ~ '\n",
    "    #трендовые поправки T(t)\n",
    "    relation += 'time + I(time ** 2)'\n",
    "    #сезонные поправки S(t)\n",
    "    for x in [1, 2, 4, 12]:\n",
    "        relation += (' + I(np.sin(2*math.pi*time*'+ str(x) +'/365.25))' + \n",
    "                     ' + I(np.cos(2*math.pi*time*'+ str(x) +'/365.25))')\n",
    "    model = fsm.quantreg(relation, data=data)\n",
    "    \n",
    "    return model.fit(q=0.1)\n",
    "    \n",
    "def model_prediction(data, res):\n",
    "    y_pred = res.params['Intercept'] + res.params['time'] * data['time'] + res.params['I(time ** 2)'] * (data['time'] ** 2)\n",
    "    for x in [1, 2, 4, 12]:\n",
    "        y_pred += (res.params['I(np.sin(2 * math.pi * time * '+ str(x) +' / 365.25))'] * np.sin(2*math.pi*data['time']*x/365.25) +\n",
    "                   res.params['I(np.cos(2 * math.pi * time * '+ str(x) +' / 365.25))'] * np.cos(2*math.pi*data['time']*x/365.25))\n",
    "    data['ln'] = y_pred\n",
    "    \n",
    "    return data\n",
    "\n",
    "def model_forecast(start, duration, history):\n",
    "    data = data_preprocessing(history)\n",
    "    \n",
    "    #генерация дат в периоде с start до (start + duration)\n",
    "    time_start = pd.to_datetime(start)\n",
    "    time_end = time_start + relativedelta(months=int(duration[:-1]))\n",
    "    data_pred = pd.DataFrame({'datetime': pd.date_range(start=time_start, end=time_end, freq='D')})\n",
    "    data = pd.merge(data, data_pred, how='outer', on='datetime')\n",
    "    \n",
    "    #представление времени в относительных единицах измерения\n",
    "    data['time'] = data['datetime'].apply(lambda time: (time - data['datetime'].iloc[0]).days)\n",
    "    \n",
    "    res = model_train(data[data['datetime'] < time_start].drop(['datetime'], axis=1))\n",
    "    #предсказание\n",
    "    data_pred = model_prediction(data[data['datetime'] >= time_start], res)\n",
    "    return math.e ** data_pred['ln'].min()"
   ]
  },
  {
   "cell_type": "code",
   "execution_count": 27,
   "id": "9c7daebd-aa7b-464c-a4de-8491bfae7153",
   "metadata": {},
   "outputs": [
    {
     "data": {
      "text/plain": [
       "47073612425.65231"
      ]
     },
     "execution_count": 27,
     "metadata": {},
     "output_type": "execute_result"
    }
   ],
   "source": [
    "demo = pd.DataFrame(data[['REPORTDATE', 'VALUE']][(data['datetime'] < '2019-02-01') & (data['datetime'] >= '2015-01-01')])\n",
    "\n",
    "model_forecast('01.02.2019', '12M', demo)"
   ]
  },
  {
   "cell_type": "code",
   "execution_count": 28,
   "id": "32b5abbd-257d-4d7a-9740-be0e60e915e7",
   "metadata": {},
   "outputs": [
    {
     "data": {
      "text/plain": [
       "VALUE    58800081047\n",
       "dtype: int64"
      ]
     },
     "execution_count": 28,
     "metadata": {},
     "output_type": "execute_result"
    }
   ],
   "source": [
    "data[['VALUE']][data['datetime'] > '2019-02-01'].min()"
   ]
  },
  {
   "cell_type": "code",
   "execution_count": null,
   "id": "28442b0d-57e0-4c34-967d-0e60a436664a",
   "metadata": {},
   "outputs": [],
   "source": []
  },
  {
   "cell_type": "code",
   "execution_count": null,
   "id": "376ef7ed-f465-4e50-91fd-df04296a662c",
   "metadata": {},
   "outputs": [],
   "source": []
  }
 ],
 "metadata": {
  "kernelspec": {
   "display_name": "Python 3 (ipykernel)",
   "language": "python",
   "name": "python3"
  },
  "language_info": {
   "codemirror_mode": {
    "name": "ipython",
    "version": 3
   },
   "file_extension": ".py",
   "mimetype": "text/x-python",
   "name": "python",
   "nbconvert_exporter": "python",
   "pygments_lexer": "ipython3",
   "version": "3.9.12"
  }
 },
 "nbformat": 4,
 "nbformat_minor": 5
}
